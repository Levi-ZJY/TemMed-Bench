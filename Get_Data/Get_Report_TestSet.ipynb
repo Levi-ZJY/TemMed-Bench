{
 "cells": [
  {
   "cell_type": "code",
   "execution_count": null,
   "id": "99dbbffb",
   "metadata": {},
   "outputs": [],
   "source": []
  },
  {
   "cell_type": "code",
   "execution_count": null,
   "id": "aa124d9e",
   "metadata": {},
   "outputs": [],
   "source": [
    "import pandas as pd\n",
    "\n",
    "file_path = \"../CheXpertPlus/df_chexpert_plus_240401.csv\"\n",
    "\n",
    "df = pd.read_csv(file_path)\n"
   ]
  },
  {
   "cell_type": "code",
   "execution_count": 2,
   "id": "760e9a40",
   "metadata": {},
   "outputs": [
    {
     "name": "stdout",
     "output_type": "stream",
     "text": [
      "223462\n",
      "Index(['path_to_image', 'path_to_dcm', 'frontal_lateral', 'ap_pa',\n",
      "       'deid_patient_id', 'patient_report_date_order', 'report',\n",
      "       'section_narrative', 'section_clinical_history', 'section_history',\n",
      "       'section_comparison', 'section_technique', 'section_procedure_comments',\n",
      "       'section_findings', 'section_impression', 'section_end_of_impression',\n",
      "       'section_summary', 'section_accession_number', 'age', 'sex', 'race',\n",
      "       'ethnicity', 'interpreter_needed', 'insurance_type', 'recent_bmi',\n",
      "       'deceased', 'split'],\n",
      "      dtype='object')\n",
      "['train' 'valid']\n"
     ]
    }
   ],
   "source": [
    "print(len(df))\n",
    "print(df.columns)\n",
    "print(df[\"split\"].unique())"
   ]
  },
  {
   "cell_type": "code",
   "execution_count": null,
   "id": "27def271",
   "metadata": {},
   "outputs": [],
   "source": []
  },
  {
   "cell_type": "code",
   "execution_count": 3,
   "id": "7d2ff467",
   "metadata": {},
   "outputs": [
    {
     "name": "stdout",
     "output_type": "stream",
     "text": [
      "223462\n"
     ]
    }
   ],
   "source": [
    "import math\n",
    "import re\n",
    "\n",
    "Report_Map = {}\n",
    "\n",
    "for i in range(len(df)):\n",
    "    path = df[\"path_to_image\"][i]\n",
    "\n",
    "    report = df[\"section_impression\"][i]\n",
    "\n",
    "    # Some reports are Nan\n",
    "    if isinstance(report, float):\n",
    "        if math.isnan(report):\n",
    "            report = None\n",
    "        else:\n",
    "            print(\"error!\")\n",
    "    else:\n",
    "        report = re.sub(r'\\s+', ' ', report).strip()\n",
    "\n",
    "    Report_Map[path] = report\n",
    "\n",
    "\n",
    "print(len(Report_Map))\n"
   ]
  },
  {
   "cell_type": "code",
   "execution_count": null,
   "id": "e1af6e84",
   "metadata": {},
   "outputs": [],
   "source": []
  },
  {
   "cell_type": "code",
   "execution_count": 4,
   "id": "e1068477",
   "metadata": {},
   "outputs": [
    {
     "name": "stdout",
     "output_type": "stream",
     "text": [
      "1000\n"
     ]
    }
   ],
   "source": [
    "import json\n",
    "\n",
    "file_path = \"TestSet_VQA_ReportGeneration\"\n",
    "\n",
    "with open(f\"{file_path}.json\", 'r', encoding='utf-8') as f:\n",
    "    data = json.load(f)\n",
    "\n",
    "print(len(data))\n"
   ]
  },
  {
   "cell_type": "code",
   "execution_count": null,
   "id": "969f0a88",
   "metadata": {},
   "outputs": [],
   "source": []
  },
  {
   "cell_type": "code",
   "execution_count": 5,
   "id": "d5d7bd50",
   "metadata": {},
   "outputs": [
    {
     "name": "stdout",
     "output_type": "stream",
     "text": [
      "1000\n"
     ]
    }
   ],
   "source": [
    "\n",
    "for i in range(len(data)):\n",
    "    historical_image_path = data[i][\"historical_image_path\"].replace(\"png\", \"jpg\")\n",
    "    image_path = data[i][\"image_path\"].replace(\"png\", \"jpg\")\n",
    "\n",
    "    historical_report = Report_Map[historical_image_path]\n",
    "    report = Report_Map[image_path]\n",
    "\n",
    "    # print(historical_report)\n",
    "    # print(report)\n",
    "\n",
    "\n",
    "    reference_images = data[i][\"reference_images\"]\n",
    "    reference_reports = []\n",
    "    for k in range(len(reference_images)):\n",
    "        img = reference_images[k].replace(\"png\", \"jpg\")\n",
    "        rep = Report_Map[img]\n",
    "        reference_reports.append(rep)\n",
    "    \n",
    "    # print(reference_reports)\n",
    "\n",
    "\n",
    "    hist_reference_images = data[i][\"hist_reference_images\"]\n",
    "    hist_reference_reports = []\n",
    "    for k in range(len(hist_reference_images)):\n",
    "        img = hist_reference_images[k].replace(\"png\", \"jpg\")\n",
    "        rep = Report_Map[img]\n",
    "        hist_reference_reports.append(rep)\n",
    "\n",
    "    # print(hist_reference_reports)\n",
    "\n",
    "\n",
    "    data[i][\"historical_report\"] = historical_report\n",
    "    data[i][\"report\"] = report\n",
    "    data[i][\"reference_reports\"] = reference_reports\n",
    "    data[i][\"hist_reference_reports\"] = hist_reference_reports\n",
    "\n",
    "\n",
    "print(len(data))"
   ]
  },
  {
   "cell_type": "code",
   "execution_count": null,
   "id": "12913ad3",
   "metadata": {},
   "outputs": [],
   "source": []
  },
  {
   "cell_type": "code",
   "execution_count": 6,
   "id": "e890bdb3",
   "metadata": {},
   "outputs": [],
   "source": [
    "import re\n",
    "\n",
    "def normalize_report(text):\n",
    "    text = text.lower()\n",
    "\n",
    "    sentences = re.split(r'([.!?])', text)\n",
    "\n",
    "    def smart_capitalize(s):\n",
    "        for i, c in enumerate(s):\n",
    "            if c.isalpha():\n",
    "                return s[:i] + c.upper() + s[i+1:]\n",
    "        return s\n",
    "\n",
    "    normalized = [smart_capitalize(s) for s in sentences]\n",
    "\n",
    "    return ''.join(normalized)\n"
   ]
  },
  {
   "cell_type": "code",
   "execution_count": 7,
   "id": "a1e21ebc",
   "metadata": {},
   "outputs": [],
   "source": [
    "\n",
    "for i in range(len(data)):\n",
    "    \n",
    "    report = data[i][\"report\"]\n",
    "    data[i][\"report\"] = normalize_report(report)\n",
    "    # print(data[i][\"report\"])\n",
    "\n",
    "    historical_report = data[i][\"historical_report\"]\n",
    "    data[i][\"historical_report\"] = normalize_report(historical_report)\n",
    "    # print(data[i][\"historical_report\"])\n",
    "\n",
    "\n",
    "\n",
    "    reference_reports = data[i][\"reference_reports\"]\n",
    "\n",
    "    for k in range(len(reference_reports)):\n",
    "        reference_reports[k] = normalize_report(reference_reports[k])\n",
    "\n",
    "    data[i][\"reference_reports\"] = reference_reports\n",
    "    # print(reference_reports)\n",
    "\n",
    "\n",
    "\n",
    "    hist_reference_reports = data[i][\"hist_reference_reports\"]\n",
    "\n",
    "    for k in range(len(hist_reference_reports)):\n",
    "        hist_reference_reports[k] = normalize_report(hist_reference_reports[k])\n",
    "    \n",
    "    data[i][\"hist_reference_reports\"] = hist_reference_reports\n",
    "    # print(hist_reference_reports)\n",
    "\n"
   ]
  },
  {
   "cell_type": "code",
   "execution_count": null,
   "id": "d12a0047",
   "metadata": {},
   "outputs": [],
   "source": []
  },
  {
   "cell_type": "code",
   "execution_count": 8,
   "id": "00b2f1e6",
   "metadata": {},
   "outputs": [],
   "source": [
    "save_file = f\"{file_path}_Final.json\"\n",
    "\n",
    "with open(save_file, \"w\", encoding=\"utf-8\") as f:\n",
    "    json.dump(data, f, ensure_ascii=False, indent=4)\n"
   ]
  },
  {
   "cell_type": "code",
   "execution_count": null,
   "id": "96259a32",
   "metadata": {},
   "outputs": [],
   "source": []
  },
  {
   "cell_type": "code",
   "execution_count": null,
   "id": "99c73fa0",
   "metadata": {},
   "outputs": [],
   "source": []
  },
  {
   "cell_type": "code",
   "execution_count": null,
   "id": "5d469230",
   "metadata": {},
   "outputs": [],
   "source": []
  },
  {
   "cell_type": "code",
   "execution_count": null,
   "id": "71cc428e",
   "metadata": {},
   "outputs": [],
   "source": []
  }
 ],
 "metadata": {
  "kernelspec": {
   "display_name": "HealthGPT",
   "language": "python",
   "name": "python3"
  },
  "language_info": {
   "codemirror_mode": {
    "name": "ipython",
    "version": 3
   },
   "file_extension": ".py",
   "mimetype": "text/x-python",
   "name": "python",
   "nbconvert_exporter": "python",
   "pygments_lexer": "ipython3",
   "version": "3.10.16"
  }
 },
 "nbformat": 4,
 "nbformat_minor": 5
}
