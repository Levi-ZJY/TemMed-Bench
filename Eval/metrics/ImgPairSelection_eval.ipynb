{
 "cells": [
  {
   "cell_type": "code",
   "execution_count": null,
   "id": "0a211baf",
   "metadata": {},
   "outputs": [],
   "source": []
  },
  {
   "cell_type": "code",
   "execution_count": null,
   "id": "3ab21aa0",
   "metadata": {},
   "outputs": [],
   "source": [
    "import json\n",
    "\n",
    "file_path = \"../ImgPairSelection_GPT_RAGimgReport.jsonl\"\n",
    "\n",
    "with open(file_path, \"r\", encoding=\"utf-8\") as f:\n",
    "    data = [json.loads(line) for line in f]\n",
    "\n",
    "print(len(data)) "
   ]
  },
  {
   "cell_type": "code",
   "execution_count": null,
   "id": "3a690e54",
   "metadata": {},
   "outputs": [],
   "source": [
    "for i in range(len(data)):\n",
    "    print(data[i][\"answer\"][-20:])\n",
    "    print(data[i][\"label\"])\n",
    "    print(\"-----\")"
   ]
  },
  {
   "cell_type": "code",
   "execution_count": null,
   "id": "f644845e",
   "metadata": {},
   "outputs": [],
   "source": []
  },
  {
   "cell_type": "code",
   "execution_count": null,
   "id": "fdd89721",
   "metadata": {},
   "outputs": [],
   "source": [
    "import random\n",
    "random.seed(1) \n",
    "\n",
    "answer_list = []\n",
    "\n",
    "num_A = 0\n",
    "num_B = 0\n",
    "num_C = 0\n",
    "num_D = 0\n",
    "num_else = 0\n",
    "\n",
    "for i in range(len(data)):\n",
    "    answer = data[i][\"answer\"].lower()\n",
    "\n",
    "    if \"my answer is a\" in answer or \"my answer is **a**\" in answer or \"my answer is **a.**\" in answer:\n",
    "        answer_list.append(1)\n",
    "        num_A += 1\n",
    "\n",
    "    elif \"my answer is b\" in answer or \"my answer is **b**\" in answer or \"my answer is **b.**\" in answer:\n",
    "        answer_list.append(2)\n",
    "        num_B += 1\n",
    "\n",
    "    elif \"my answer is c\" in answer or \"my answer is **c**\" in answer or \"my answer is **c.**\" in answer:\n",
    "        answer_list.append(3)\n",
    "        num_C += 1\n",
    "\n",
    "    elif \"my answer is d\" in answer or \"my answer is **d**\" in answer or \"my answer is **d.**\" in answer:\n",
    "        answer_list.append(4)\n",
    "        num_D += 1\n",
    "            \n",
    "    else:\n",
    "        print(\"###################################################################\")\n",
    "        print(data[i][\"answer\"])\n",
    "        \n",
    "        raise ValueError(\"Error!\")\n",
    "    \n",
    "        num_else += 1\n",
    "        t = random.choice([1, 2, 3])\n",
    "        answer_list.append(t)\n",
    "\n",
    "print(answer_list)\n",
    "print(num_else)"
   ]
  },
  {
   "cell_type": "code",
   "execution_count": null,
   "id": "2b82294f",
   "metadata": {},
   "outputs": [],
   "source": [
    "print(\"A%:\", num_A/len(data))\n",
    "print(\"B%:\", num_B/len(data))\n",
    "print(\"C%:\", num_C/len(data))\n",
    "print(\"D%:\", num_D/len(data))"
   ]
  },
  {
   "cell_type": "code",
   "execution_count": null,
   "id": "c1c79255",
   "metadata": {},
   "outputs": [],
   "source": []
  },
  {
   "cell_type": "code",
   "execution_count": null,
   "id": "0a071146",
   "metadata": {},
   "outputs": [],
   "source": []
  },
  {
   "cell_type": "code",
   "execution_count": null,
   "id": "5dfe89d4",
   "metadata": {},
   "outputs": [],
   "source": [
    "label_list = []\n",
    "\n",
    "num_A = 0\n",
    "num_B = 0\n",
    "num_C = 0\n",
    "num_D = 0\n",
    "num_else = 0\n",
    "\n",
    "for i in range(len(data)):\n",
    "    if data[i][\"label\"] == \"A\":\n",
    "        label_list.append(1)\n",
    "        num_A += 1\n",
    "\n",
    "    elif data[i][\"label\"] == \"B\":\n",
    "        label_list.append(2)\n",
    "        num_B += 1\n",
    "\n",
    "    elif data[i][\"label\"] == \"C\":\n",
    "        label_list.append(3)\n",
    "        num_C += 1\n",
    "\n",
    "    elif data[i][\"label\"] == \"D\":\n",
    "        label_list.append(4)\n",
    "        num_D += 1\n",
    "\n",
    "    else:\n",
    "        print(data[i][\"label\"])\n",
    "        num_else += 1\n",
    "\n",
    "print(label_list)\n",
    "print(num_else)"
   ]
  },
  {
   "cell_type": "code",
   "execution_count": null,
   "id": "3d934e04",
   "metadata": {},
   "outputs": [],
   "source": [
    "print(\"A%:\", num_A/len(data))\n",
    "print(\"B%:\", num_B/len(data))\n",
    "print(\"C%:\", num_C/len(data))\n",
    "print(\"D%:\", num_D/len(data))"
   ]
  },
  {
   "cell_type": "code",
   "execution_count": null,
   "id": "9022450a",
   "metadata": {},
   "outputs": [],
   "source": []
  },
  {
   "cell_type": "code",
   "execution_count": null,
   "id": "c98ad94b",
   "metadata": {},
   "outputs": [],
   "source": []
  },
  {
   "cell_type": "code",
   "execution_count": null,
   "id": "aa4a2d50",
   "metadata": {},
   "outputs": [],
   "source": [
    "from sklearn.metrics import accuracy_score, precision_score, recall_score, f1_score\n",
    "import numpy as np\n",
    "\n",
    "\n",
    "# Accuracy\n",
    "acc = accuracy_score(label_list, answer_list)\n",
    "\n",
    "# Precision, Recall, F1-score\n",
    "precision = precision_score(label_list, answer_list, average='weighted', zero_division=0)\n",
    "recall = recall_score(label_list, answer_list, average='weighted', zero_division=0)\n",
    "f1 = f1_score(label_list, answer_list, average='weighted', zero_division=0)\n",
    "\n",
    "\n",
    "print(f\"Accuracy: {acc:.4f}\")\n",
    "print(f\"F1-score: {f1:.4f}\")\n",
    "\n",
    "print(f\"Precision: {precision:.4f}\")\n",
    "print(f\"Recall: {recall:.4f}\")\n",
    "\n"
   ]
  },
  {
   "cell_type": "code",
   "execution_count": null,
   "id": "828be0e1",
   "metadata": {},
   "outputs": [],
   "source": []
  },
  {
   "cell_type": "code",
   "execution_count": null,
   "id": "1bd29c02",
   "metadata": {},
   "outputs": [],
   "source": []
  },
  {
   "cell_type": "code",
   "execution_count": null,
   "id": "846fbb94",
   "metadata": {},
   "outputs": [],
   "source": []
  },
  {
   "cell_type": "code",
   "execution_count": null,
   "id": "94dea63e",
   "metadata": {},
   "outputs": [],
   "source": []
  }
 ],
 "metadata": {
  "kernelspec": {
   "display_name": "MMed-RAG",
   "language": "python",
   "name": "python3"
  },
  "language_info": {
   "codemirror_mode": {
    "name": "ipython",
    "version": 3
   },
   "file_extension": ".py",
   "mimetype": "text/x-python",
   "name": "python",
   "nbconvert_exporter": "python",
   "pygments_lexer": "ipython3",
   "version": "3.10.16"
  }
 },
 "nbformat": 4,
 "nbformat_minor": 5
}
