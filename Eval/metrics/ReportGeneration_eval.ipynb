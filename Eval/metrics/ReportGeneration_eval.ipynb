{
 "cells": [
  {
   "cell_type": "code",
   "execution_count": null,
   "metadata": {},
   "outputs": [],
   "source": [
    "import nltk\n",
    "from nltk.tokenize import word_tokenize\n",
    "from nltk.translate.bleu_score import sentence_bleu, SmoothingFunction\n",
    "\n",
    "nltk.download('punkt_tab')\n",
    "nltk.download('punkt')\n",
    "\n",
    "nltk.download('wordnet')\n",
    "nltk.download('omw-1.4') \n",
    "\n"
   ]
  },
  {
   "cell_type": "code",
   "execution_count": null,
   "metadata": {},
   "outputs": [],
   "source": []
  },
  {
   "cell_type": "code",
   "execution_count": null,
   "metadata": {},
   "outputs": [],
   "source": [
    "import json\n",
    "\n",
    "file_path = '../Report_GPT_RAG_imgReport.jsonl'\n",
    "\n",
    "data_answer = []\n",
    "\n",
    "with open(file_path, \"r\", encoding=\"utf-8\") as f:\n",
    "    for line in f:\n",
    "        data_answer.append(json.loads(line))\n",
    "\n",
    "print(len(data_answer)) \n"
   ]
  },
  {
   "cell_type": "code",
   "execution_count": null,
   "metadata": {},
   "outputs": [],
   "source": [
    "for i in range(len(data_answer)):\n",
    "    print(data_answer[i][\"answer_report\"])"
   ]
  },
  {
   "cell_type": "code",
   "execution_count": null,
   "metadata": {},
   "outputs": [],
   "source": [
    "for i in range(len(data_answer)):\n",
    "    print(data_answer[i][\"label_report\"])"
   ]
  },
  {
   "cell_type": "code",
   "execution_count": null,
   "metadata": {},
   "outputs": [],
   "source": []
  },
  {
   "cell_type": "code",
   "execution_count": null,
   "metadata": {},
   "outputs": [],
   "source": [
    "from nltk.translate.bleu_score import sentence_bleu, SmoothingFunction\n",
    "from nltk.translate.meteor_score import meteor_score\n",
    "from rouge_score import rouge_scorer\n",
    "from nltk.tokenize import word_tokenize\n",
    "\n",
    "\n",
    "\n",
    "BLEU_scores = []\n",
    "ROUGE_L_scores = []\n",
    "METEOR_scores = []\n",
    "\n",
    "scorer = rouge_scorer.RougeScorer(['rougeL'], use_stemmer=True)\n",
    "smoothie = SmoothingFunction().method1 \n",
    "\n",
    "for i in range(len(data_answer)):\n",
    "\n",
    "    answer = data_answer[i][\"answer_report\"].strip().lower()\n",
    "    label = data_answer[i][\"label_report\"].strip().lower()\n",
    "\n",
    "    if not answer or not label:\n",
    "        answer = \" \"\n",
    "\n",
    "    reference = [word_tokenize(label)] \n",
    "    candidate = word_tokenize(answer) \n",
    "\n",
    "\n",
    "\n",
    "    # BLEU\n",
    "    bleu_score = sentence_bleu(reference, candidate, weights=(1.0, 0.0, 0.0, 0.0) ,smoothing_function=smoothie)\n",
    "    BLEU_scores.append(bleu_score)\n",
    "\n",
    "\n",
    "\n",
    "    # ROUGE-L\n",
    "    label_tok = ' '.join(word_tokenize(label))\n",
    "    answer_tok = ' '.join(word_tokenize(answer))\n",
    "    rouge_score = scorer.score(label_tok, answer_tok)['rougeL'].fmeasure\n",
    "    ROUGE_L_scores.append(rouge_score)\n",
    "\n",
    "\n",
    "\n",
    "    # METEOR\n",
    "    meteor = meteor_score(reference, candidate)\n",
    "    METEOR_scores.append(meteor)\n",
    "\n",
    "    print(f\"Index {i}: BLEU={bleu_score:.4f}, ROUGE-L={rouge_score:.4f}, METEOR={meteor:.4f}\")\n",
    "\n"
   ]
  },
  {
   "cell_type": "code",
   "execution_count": null,
   "metadata": {},
   "outputs": [],
   "source": [
    "Ave_BLEU_score = sum(BLEU_scores) / len(BLEU_scores)\n",
    "Ave_BLEU_score = Ave_BLEU_score * 100\n",
    "print(\"BLEU:\", Ave_BLEU_score)\n",
    "\n",
    "Ave_ROUGE_L_scores = sum(ROUGE_L_scores) / len(ROUGE_L_scores)\n",
    "Ave_ROUGE_L_scores = Ave_ROUGE_L_scores * 100\n",
    "print(\"ROUGE_L:\", Ave_ROUGE_L_scores)\n",
    "\n",
    "Ave_METEOR_scores = sum(METEOR_scores) / len(METEOR_scores)\n",
    "Ave_METEOR_scores = Ave_METEOR_scores * 100\n",
    "print(\"METEOR:\", Ave_METEOR_scores)"
   ]
  },
  {
   "cell_type": "code",
   "execution_count": null,
   "metadata": {},
   "outputs": [],
   "source": []
  },
  {
   "cell_type": "code",
   "execution_count": null,
   "metadata": {},
   "outputs": [],
   "source": []
  },
  {
   "cell_type": "code",
   "execution_count": null,
   "metadata": {},
   "outputs": [],
   "source": []
  },
  {
   "cell_type": "code",
   "execution_count": null,
   "metadata": {},
   "outputs": [],
   "source": []
  },
  {
   "cell_type": "code",
   "execution_count": null,
   "metadata": {},
   "outputs": [],
   "source": []
  },
  {
   "cell_type": "code",
   "execution_count": null,
   "metadata": {},
   "outputs": [],
   "source": []
  }
 ],
 "metadata": {
  "kernelspec": {
   "display_name": "MMed-RAG",
   "language": "python",
   "name": "python3"
  },
  "language_info": {
   "codemirror_mode": {
    "name": "ipython",
    "version": 3
   },
   "file_extension": ".py",
   "mimetype": "text/x-python",
   "name": "python",
   "nbconvert_exporter": "python",
   "pygments_lexer": "ipython3",
   "version": "3.10.16"
  }
 },
 "nbformat": 4,
 "nbformat_minor": 2
}
