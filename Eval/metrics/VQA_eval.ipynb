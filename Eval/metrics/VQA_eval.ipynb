{
 "cells": [
  {
   "cell_type": "code",
   "execution_count": null,
   "metadata": {},
   "outputs": [],
   "source": [
    "import json\n",
    "\n",
    "file_path = \"../VQA_GPT_RAG_imgReport.jsonl\"\n",
    "\n",
    "data = []\n",
    "\n",
    "with open(file_path, 'r', encoding='utf-8') as file:\n",
    "    for line in file:\n",
    "        data.append(json.loads(line.strip()))\n",
    "\n",
    "print(len(data))\n"
   ]
  },
  {
   "cell_type": "code",
   "execution_count": null,
   "metadata": {},
   "outputs": [],
   "source": []
  },
  {
   "cell_type": "code",
   "execution_count": null,
   "metadata": {},
   "outputs": [],
   "source": [
    "for i in range(len(data)):\n",
    "    print(data[i][\"answer_vqa\"])\n",
    "    print(data[i][\"label_answer_vqa\"])\n",
    "    print(\"-----\")"
   ]
  },
  {
   "cell_type": "code",
   "execution_count": null,
   "metadata": {},
   "outputs": [],
   "source": []
  },
  {
   "cell_type": "code",
   "execution_count": null,
   "metadata": {},
   "outputs": [],
   "source": [
    "Yes = 0\n",
    "No = 0\n",
    "Else = 0\n",
    "\n",
    "label_list = []\n",
    "\n",
    "for i in range(len(data)):\n",
    "    label = data[i][\"label_answer_vqa\"]\n",
    "    # print(label)\n",
    "\n",
    "    if label == \"Yes.\" or label == \"Yes\":\n",
    "        label_list.append(1)\n",
    "        Yes += 1\n",
    "\n",
    "    elif label == \"No.\" or label == \"No\":\n",
    "        label_list.append(0)\n",
    "        No += 1\n",
    "    \n",
    "    else:\n",
    "        print(label)\n",
    "        Else += 1\n",
    "        raise ValueError(\"error!\")\n",
    "\n",
    "\n",
    "\n",
    "print(Yes)\n",
    "print(No)\n",
    "print(Else)\n"
   ]
  },
  {
   "cell_type": "code",
   "execution_count": null,
   "metadata": {},
   "outputs": [],
   "source": [
    "print(\"Yes%:\", Yes/len(data))\n",
    "print(\"No%:\", No/len(data))"
   ]
  },
  {
   "cell_type": "code",
   "execution_count": null,
   "metadata": {},
   "outputs": [],
   "source": []
  },
  {
   "cell_type": "code",
   "execution_count": null,
   "metadata": {},
   "outputs": [],
   "source": [
    "Yes = 0\n",
    "No = 0\n",
    "Else = 0\n",
    "\n",
    "answer_list = []\n",
    "\n",
    "for i in range(len(data)):\n",
    "    answer = data[i][\"answer_vqa\"]\n",
    "    if answer[:3] == \"Yes\" or answer[:3] == \"yes\" or answer[:3] == \"YES\":\n",
    "        answer_list.append(1)\n",
    "        Yes += 1\n",
    "\n",
    "    elif answer[:2] == \"No\" or answer[:2] == \"no\" or answer[:2] == \"NO\":\n",
    "        answer_list.append(0)\n",
    "        No += 1\n",
    "\n",
    "    else:\n",
    "        raise ValueError(\"error!\")\n",
    "        print(answer)\n",
    "        Else += 1\n",
    "\n",
    "\n",
    "\n",
    "print(Yes)\n",
    "print(No)\n",
    "print(Else)"
   ]
  },
  {
   "cell_type": "code",
   "execution_count": null,
   "metadata": {},
   "outputs": [],
   "source": [
    "print(\"Yes%:\", Yes/len(data))\n",
    "print(\"No%:\", No/len(data))"
   ]
  },
  {
   "cell_type": "code",
   "execution_count": null,
   "metadata": {},
   "outputs": [],
   "source": []
  },
  {
   "cell_type": "code",
   "execution_count": null,
   "metadata": {},
   "outputs": [],
   "source": [
    "print(answer_list)\n",
    "print(label_list)\n",
    "print(len(answer_list))\n",
    "print(len(label_list))"
   ]
  },
  {
   "cell_type": "code",
   "execution_count": null,
   "metadata": {},
   "outputs": [],
   "source": [
    "label_list_clean = []\n",
    "answer_list_clean = []\n",
    "\n",
    "\n",
    "\n",
    "for i in range(len(label_list)):\n",
    "    if label_list[i] != 0 and label_list[i] != 1:\n",
    "        print(\"skip1\")\n",
    "        continue\n",
    "\n",
    "    if answer_list[i] != 0 and answer_list[i] != 1:\n",
    "        print(\"skip2\")\n",
    "        continue\n",
    "    \n",
    "    label_list_clean.append(label_list[i])\n",
    "    answer_list_clean.append(answer_list[i])"
   ]
  },
  {
   "cell_type": "code",
   "execution_count": null,
   "metadata": {},
   "outputs": [],
   "source": [
    "print(len(answer_list_clean))\n",
    "print(len(label_list_clean))"
   ]
  },
  {
   "cell_type": "code",
   "execution_count": null,
   "metadata": {},
   "outputs": [],
   "source": []
  },
  {
   "cell_type": "code",
   "execution_count": null,
   "metadata": {},
   "outputs": [],
   "source": []
  },
  {
   "cell_type": "code",
   "execution_count": null,
   "metadata": {},
   "outputs": [],
   "source": [
    "from sklearn.metrics import accuracy_score, precision_score, recall_score, f1_score\n",
    "import numpy as np\n",
    "\n",
    "\n",
    "# Accuracy\n",
    "acc = accuracy_score(label_list, answer_list)\n",
    "\n",
    "# Precision, Recall, F1-score\n",
    "precision = precision_score(label_list, answer_list, average='macro', zero_division=0)\n",
    "recall = recall_score(label_list, answer_list, average='macro', zero_division=0)\n",
    "f1 = f1_score(label_list, answer_list, average='macro', zero_division=0)\n",
    "\n",
    "\n",
    "print(f\"Accuracy: {acc:.4f}\")\n",
    "print(f\"F1-score: {f1:.4f}\")\n",
    "\n",
    "print(f\"Precision: {precision:.4f}\")\n",
    "print(f\"Recall: {recall:.4f}\")\n",
    "\n"
   ]
  },
  {
   "cell_type": "code",
   "execution_count": null,
   "metadata": {},
   "outputs": [],
   "source": []
  },
  {
   "cell_type": "code",
   "execution_count": null,
   "metadata": {},
   "outputs": [],
   "source": []
  },
  {
   "cell_type": "code",
   "execution_count": null,
   "metadata": {},
   "outputs": [],
   "source": []
  },
  {
   "cell_type": "code",
   "execution_count": null,
   "metadata": {},
   "outputs": [],
   "source": []
  }
 ],
 "metadata": {
  "kernelspec": {
   "display_name": "MMed-RAG",
   "language": "python",
   "name": "python3"
  },
  "language_info": {
   "codemirror_mode": {
    "name": "ipython",
    "version": 3
   },
   "file_extension": ".py",
   "mimetype": "text/x-python",
   "name": "python",
   "nbconvert_exporter": "python",
   "pygments_lexer": "ipython3",
   "version": "3.10.16"
  }
 },
 "nbformat": 4,
 "nbformat_minor": 2
}
